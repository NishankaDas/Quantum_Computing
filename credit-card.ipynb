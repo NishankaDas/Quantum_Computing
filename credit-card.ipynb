{
 "cells": [
  {
   "cell_type": "code",
   "execution_count": 1,
   "id": "890eff65",
   "metadata": {
    "_cell_guid": "b1076dfc-b9ad-4769-8c92-a6c4dae69d19",
    "_uuid": "8f2839f25d086af736a60e9eeb907d3b93b6e0e5",
    "execution": {
     "iopub.execute_input": "2024-11-25T14:46:54.543037Z",
     "iopub.status.busy": "2024-11-25T14:46:54.541905Z",
     "iopub.status.idle": "2024-11-25T14:46:55.389015Z",
     "shell.execute_reply": "2024-11-25T14:46:55.387487Z"
    },
    "papermill": {
     "duration": 0.855245,
     "end_time": "2024-11-25T14:46:55.391444",
     "exception": false,
     "start_time": "2024-11-25T14:46:54.536199",
     "status": "completed"
    },
    "tags": []
   },
   "outputs": [
    {
     "name": "stdout",
     "output_type": "stream",
     "text": [
      "/kaggle/input/credit-card-fraud/credit_card_fraud_synthetic.csv\n"
     ]
    }
   ],
   "source": [
    "# This Python 3 environment comes with many helpful analytics libraries installed\n",
    "# It is defined by the kaggle/python Docker image: https://github.com/kaggle/docker-python\n",
    "# For example, here's several helpful packages to load\n",
    "\n",
    "import numpy as np # linear algebra\n",
    "import pandas as pd # data processing, CSV file I/O (e.g. pd.read_csv)\n",
    "\n",
    "# Input data files are available in the read-only \"../input/\" directory\n",
    "# For example, running this (by clicking run or pressing Shift+Enter) will list all files under the input directory\n",
    "\n",
    "import os\n",
    "for dirname, _, filenames in os.walk('/kaggle/input'):\n",
    "    for filename in filenames:\n",
    "        print(os.path.join(dirname, filename))\n",
    "\n",
    "# You can write up to 20GB to the current directory (/kaggle/working/) that gets preserved as output when you create a version using \"Save & Run All\" \n",
    "# You can also write temporary files to /kaggle/temp/, but they won't be saved outside of the current session"
   ]
  },
  {
   "cell_type": "code",
   "execution_count": 2,
   "id": "c3a92a99",
   "metadata": {
    "execution": {
     "iopub.execute_input": "2024-11-25T14:46:55.400593Z",
     "iopub.status.busy": "2024-11-25T14:46:55.399987Z",
     "iopub.status.idle": "2024-11-25T14:46:56.923316Z",
     "shell.execute_reply": "2024-11-25T14:46:56.922262Z"
    },
    "papermill": {
     "duration": 1.53057,
     "end_time": "2024-11-25T14:46:56.925641",
     "exception": false,
     "start_time": "2024-11-25T14:46:55.395071",
     "status": "completed"
    },
    "tags": []
   },
   "outputs": [],
   "source": [
    "import numpy as np\n",
    "import pandas as pd\n",
    "from sklearn.preprocessing import StandardScaler\n",
    "from sklearn.model_selection import train_test_split, GridSearchCV\n",
    "from sklearn.svm import SVC\n",
    "from sklearn.metrics import classification_report, confusion_matrix\n",
    "import joblib\n",
    "import matplotlib.pyplot as plt"
   ]
  },
  {
   "cell_type": "code",
   "execution_count": 3,
   "id": "8776b7fd",
   "metadata": {
    "execution": {
     "iopub.execute_input": "2024-11-25T14:46:56.934775Z",
     "iopub.status.busy": "2024-11-25T14:46:56.934135Z",
     "iopub.status.idle": "2024-11-25T14:46:56.966458Z",
     "shell.execute_reply": "2024-11-25T14:46:56.965341Z"
    },
    "papermill": {
     "duration": 0.039824,
     "end_time": "2024-11-25T14:46:56.968996",
     "exception": false,
     "start_time": "2024-11-25T14:46:56.929172",
     "status": "completed"
    },
    "tags": []
   },
   "outputs": [],
   "source": [
    "input = pd.read_csv('/kaggle/input/credit-card-fraud/credit_card_fraud_synthetic.csv')"
   ]
  },
  {
   "cell_type": "code",
   "execution_count": 4,
   "id": "079f3051",
   "metadata": {
    "execution": {
     "iopub.execute_input": "2024-11-25T14:46:56.977621Z",
     "iopub.status.busy": "2024-11-25T14:46:56.977043Z",
     "iopub.status.idle": "2024-11-25T14:46:56.991620Z",
     "shell.execute_reply": "2024-11-25T14:46:56.990392Z"
    },
    "papermill": {
     "duration": 0.02151,
     "end_time": "2024-11-25T14:46:56.993968",
     "exception": false,
     "start_time": "2024-11-25T14:46:56.972458",
     "status": "completed"
    },
    "tags": []
   },
   "outputs": [],
   "source": [
    "data = input.drop(['Timestamp','Transaction_Type','Location','Transaction_ID'], axis = 1)"
   ]
  },
  {
   "cell_type": "code",
   "execution_count": 5,
   "id": "5a7a2ff1",
   "metadata": {
    "execution": {
     "iopub.execute_input": "2024-11-25T14:46:57.002365Z",
     "iopub.status.busy": "2024-11-25T14:46:57.001946Z",
     "iopub.status.idle": "2024-11-25T14:46:57.024731Z",
     "shell.execute_reply": "2024-11-25T14:46:57.023618Z"
    },
    "papermill": {
     "duration": 0.029433,
     "end_time": "2024-11-25T14:46:57.026868",
     "exception": false,
     "start_time": "2024-11-25T14:46:56.997435",
     "status": "completed"
    },
    "tags": []
   },
   "outputs": [
    {
     "data": {
      "text/html": [
       "<div>\n",
       "<style scoped>\n",
       "    .dataframe tbody tr th:only-of-type {\n",
       "        vertical-align: middle;\n",
       "    }\n",
       "\n",
       "    .dataframe tbody tr th {\n",
       "        vertical-align: top;\n",
       "    }\n",
       "\n",
       "    .dataframe thead th {\n",
       "        text-align: right;\n",
       "    }\n",
       "</style>\n",
       "<table border=\"1\" class=\"dataframe\">\n",
       "  <thead>\n",
       "    <tr style=\"text-align: right;\">\n",
       "      <th></th>\n",
       "      <th>Transaction_Amount</th>\n",
       "      <th>Is_Fraudulent</th>\n",
       "      <th>Transaction_Frequency</th>\n",
       "      <th>Average_Transaction_Amount</th>\n",
       "      <th>Time_Since_Last_Transaction</th>\n",
       "      <th>Deviation_From_Avg</th>\n",
       "    </tr>\n",
       "  </thead>\n",
       "  <tbody>\n",
       "    <tr>\n",
       "      <th>0</th>\n",
       "      <td>1873.33</td>\n",
       "      <td>0</td>\n",
       "      <td>6</td>\n",
       "      <td>627.79</td>\n",
       "      <td>82</td>\n",
       "      <td>1245.54</td>\n",
       "    </tr>\n",
       "    <tr>\n",
       "      <th>1</th>\n",
       "      <td>4753.62</td>\n",
       "      <td>1</td>\n",
       "      <td>14</td>\n",
       "      <td>518.60</td>\n",
       "      <td>26</td>\n",
       "      <td>4235.02</td>\n",
       "    </tr>\n",
       "    <tr>\n",
       "      <th>2</th>\n",
       "      <td>3660.24</td>\n",
       "      <td>1</td>\n",
       "      <td>12</td>\n",
       "      <td>1294.19</td>\n",
       "      <td>42</td>\n",
       "      <td>2366.05</td>\n",
       "    </tr>\n",
       "    <tr>\n",
       "      <th>3</th>\n",
       "      <td>2993.69</td>\n",
       "      <td>0</td>\n",
       "      <td>27</td>\n",
       "      <td>787.40</td>\n",
       "      <td>16</td>\n",
       "      <td>2206.29</td>\n",
       "    </tr>\n",
       "    <tr>\n",
       "      <th>4</th>\n",
       "      <td>780.94</td>\n",
       "      <td>0</td>\n",
       "      <td>26</td>\n",
       "      <td>1271.41</td>\n",
       "      <td>22</td>\n",
       "      <td>-490.47</td>\n",
       "    </tr>\n",
       "    <tr>\n",
       "      <th>...</th>\n",
       "      <td>...</td>\n",
       "      <td>...</td>\n",
       "      <td>...</td>\n",
       "      <td>...</td>\n",
       "      <td>...</td>\n",
       "      <td>...</td>\n",
       "    </tr>\n",
       "    <tr>\n",
       "      <th>4995</th>\n",
       "      <td>4487.09</td>\n",
       "      <td>1</td>\n",
       "      <td>1</td>\n",
       "      <td>360.88</td>\n",
       "      <td>33</td>\n",
       "      <td>4126.21</td>\n",
       "    </tr>\n",
       "    <tr>\n",
       "      <th>4996</th>\n",
       "      <td>597.79</td>\n",
       "      <td>0</td>\n",
       "      <td>4</td>\n",
       "      <td>1287.41</td>\n",
       "      <td>43</td>\n",
       "      <td>-689.62</td>\n",
       "    </tr>\n",
       "    <tr>\n",
       "      <th>4997</th>\n",
       "      <td>1639.89</td>\n",
       "      <td>0</td>\n",
       "      <td>7</td>\n",
       "      <td>888.82</td>\n",
       "      <td>12</td>\n",
       "      <td>751.07</td>\n",
       "    </tr>\n",
       "    <tr>\n",
       "      <th>4998</th>\n",
       "      <td>4078.91</td>\n",
       "      <td>0</td>\n",
       "      <td>11</td>\n",
       "      <td>86.25</td>\n",
       "      <td>93</td>\n",
       "      <td>3992.66</td>\n",
       "    </tr>\n",
       "    <tr>\n",
       "      <th>4999</th>\n",
       "      <td>2986.96</td>\n",
       "      <td>0</td>\n",
       "      <td>14</td>\n",
       "      <td>1102.54</td>\n",
       "      <td>85</td>\n",
       "      <td>1884.42</td>\n",
       "    </tr>\n",
       "  </tbody>\n",
       "</table>\n",
       "<p>5000 rows × 6 columns</p>\n",
       "</div>"
      ],
      "text/plain": [
       "      Transaction_Amount  Is_Fraudulent  Transaction_Frequency  \\\n",
       "0                1873.33              0                      6   \n",
       "1                4753.62              1                     14   \n",
       "2                3660.24              1                     12   \n",
       "3                2993.69              0                     27   \n",
       "4                 780.94              0                     26   \n",
       "...                  ...            ...                    ...   \n",
       "4995             4487.09              1                      1   \n",
       "4996              597.79              0                      4   \n",
       "4997             1639.89              0                      7   \n",
       "4998             4078.91              0                     11   \n",
       "4999             2986.96              0                     14   \n",
       "\n",
       "      Average_Transaction_Amount  Time_Since_Last_Transaction  \\\n",
       "0                         627.79                           82   \n",
       "1                         518.60                           26   \n",
       "2                        1294.19                           42   \n",
       "3                         787.40                           16   \n",
       "4                        1271.41                           22   \n",
       "...                          ...                          ...   \n",
       "4995                      360.88                           33   \n",
       "4996                     1287.41                           43   \n",
       "4997                      888.82                           12   \n",
       "4998                       86.25                           93   \n",
       "4999                     1102.54                           85   \n",
       "\n",
       "      Deviation_From_Avg  \n",
       "0                1245.54  \n",
       "1                4235.02  \n",
       "2                2366.05  \n",
       "3                2206.29  \n",
       "4                -490.47  \n",
       "...                  ...  \n",
       "4995             4126.21  \n",
       "4996             -689.62  \n",
       "4997              751.07  \n",
       "4998             3992.66  \n",
       "4999             1884.42  \n",
       "\n",
       "[5000 rows x 6 columns]"
      ]
     },
     "execution_count": 5,
     "metadata": {},
     "output_type": "execute_result"
    }
   ],
   "source": [
    "data"
   ]
  },
  {
   "cell_type": "code",
   "execution_count": 6,
   "id": "7ab68a59",
   "metadata": {
    "execution": {
     "iopub.execute_input": "2024-11-25T14:46:57.035820Z",
     "iopub.status.busy": "2024-11-25T14:46:57.035429Z",
     "iopub.status.idle": "2024-11-25T14:46:57.040445Z",
     "shell.execute_reply": "2024-11-25T14:46:57.039377Z"
    },
    "papermill": {
     "duration": 0.013003,
     "end_time": "2024-11-25T14:46:57.043615",
     "exception": false,
     "start_time": "2024-11-25T14:46:57.030612",
     "status": "completed"
    },
    "tags": []
   },
   "outputs": [],
   "source": [
    "y = data['Is_Fraudulent']"
   ]
  },
  {
   "cell_type": "code",
   "execution_count": 7,
   "id": "1942a66d",
   "metadata": {
    "execution": {
     "iopub.execute_input": "2024-11-25T14:46:57.053340Z",
     "iopub.status.busy": "2024-11-25T14:46:57.052929Z",
     "iopub.status.idle": "2024-11-25T14:46:57.058980Z",
     "shell.execute_reply": "2024-11-25T14:46:57.057992Z"
    },
    "papermill": {
     "duration": 0.01282,
     "end_time": "2024-11-25T14:46:57.060953",
     "exception": false,
     "start_time": "2024-11-25T14:46:57.048133",
     "status": "completed"
    },
    "tags": []
   },
   "outputs": [],
   "source": [
    "x  = data.drop('Is_Fraudulent',axis = 1)"
   ]
  },
  {
   "cell_type": "code",
   "execution_count": 8,
   "id": "86a541c1",
   "metadata": {
    "execution": {
     "iopub.execute_input": "2024-11-25T14:46:57.069862Z",
     "iopub.status.busy": "2024-11-25T14:46:57.069480Z",
     "iopub.status.idle": "2024-11-25T14:46:57.077885Z",
     "shell.execute_reply": "2024-11-25T14:46:57.077013Z"
    },
    "papermill": {
     "duration": 0.015253,
     "end_time": "2024-11-25T14:46:57.079876",
     "exception": false,
     "start_time": "2024-11-25T14:46:57.064623",
     "status": "completed"
    },
    "tags": []
   },
   "outputs": [],
   "source": [
    "X_train, X_test, y_train, y_test = train_test_split(x, y, test_size=0.3, random_state=42)"
   ]
  },
  {
   "cell_type": "code",
   "execution_count": 9,
   "id": "07fc9426",
   "metadata": {
    "execution": {
     "iopub.execute_input": "2024-11-25T14:46:57.088714Z",
     "iopub.status.busy": "2024-11-25T14:46:57.088324Z",
     "iopub.status.idle": "2024-11-25T14:46:57.171413Z",
     "shell.execute_reply": "2024-11-25T14:46:57.170238Z"
    },
    "papermill": {
     "duration": 0.090144,
     "end_time": "2024-11-25T14:46:57.173664",
     "exception": false,
     "start_time": "2024-11-25T14:46:57.083520",
     "status": "completed"
    },
    "tags": []
   },
   "outputs": [
    {
     "data": {
      "text/html": [
       "<style>#sk-container-id-1 {color: black;background-color: white;}#sk-container-id-1 pre{padding: 0;}#sk-container-id-1 div.sk-toggleable {background-color: white;}#sk-container-id-1 label.sk-toggleable__label {cursor: pointer;display: block;width: 100%;margin-bottom: 0;padding: 0.3em;box-sizing: border-box;text-align: center;}#sk-container-id-1 label.sk-toggleable__label-arrow:before {content: \"▸\";float: left;margin-right: 0.25em;color: #696969;}#sk-container-id-1 label.sk-toggleable__label-arrow:hover:before {color: black;}#sk-container-id-1 div.sk-estimator:hover label.sk-toggleable__label-arrow:before {color: black;}#sk-container-id-1 div.sk-toggleable__content {max-height: 0;max-width: 0;overflow: hidden;text-align: left;background-color: #f0f8ff;}#sk-container-id-1 div.sk-toggleable__content pre {margin: 0.2em;color: black;border-radius: 0.25em;background-color: #f0f8ff;}#sk-container-id-1 input.sk-toggleable__control:checked~div.sk-toggleable__content {max-height: 200px;max-width: 100%;overflow: auto;}#sk-container-id-1 input.sk-toggleable__control:checked~label.sk-toggleable__label-arrow:before {content: \"▾\";}#sk-container-id-1 div.sk-estimator input.sk-toggleable__control:checked~label.sk-toggleable__label {background-color: #d4ebff;}#sk-container-id-1 div.sk-label input.sk-toggleable__control:checked~label.sk-toggleable__label {background-color: #d4ebff;}#sk-container-id-1 input.sk-hidden--visually {border: 0;clip: rect(1px 1px 1px 1px);clip: rect(1px, 1px, 1px, 1px);height: 1px;margin: -1px;overflow: hidden;padding: 0;position: absolute;width: 1px;}#sk-container-id-1 div.sk-estimator {font-family: monospace;background-color: #f0f8ff;border: 1px dotted black;border-radius: 0.25em;box-sizing: border-box;margin-bottom: 0.5em;}#sk-container-id-1 div.sk-estimator:hover {background-color: #d4ebff;}#sk-container-id-1 div.sk-parallel-item::after {content: \"\";width: 100%;border-bottom: 1px solid gray;flex-grow: 1;}#sk-container-id-1 div.sk-label:hover label.sk-toggleable__label {background-color: #d4ebff;}#sk-container-id-1 div.sk-serial::before {content: \"\";position: absolute;border-left: 1px solid gray;box-sizing: border-box;top: 0;bottom: 0;left: 50%;z-index: 0;}#sk-container-id-1 div.sk-serial {display: flex;flex-direction: column;align-items: center;background-color: white;padding-right: 0.2em;padding-left: 0.2em;position: relative;}#sk-container-id-1 div.sk-item {position: relative;z-index: 1;}#sk-container-id-1 div.sk-parallel {display: flex;align-items: stretch;justify-content: center;background-color: white;position: relative;}#sk-container-id-1 div.sk-item::before, #sk-container-id-1 div.sk-parallel-item::before {content: \"\";position: absolute;border-left: 1px solid gray;box-sizing: border-box;top: 0;bottom: 0;left: 50%;z-index: -1;}#sk-container-id-1 div.sk-parallel-item {display: flex;flex-direction: column;z-index: 1;position: relative;background-color: white;}#sk-container-id-1 div.sk-parallel-item:first-child::after {align-self: flex-end;width: 50%;}#sk-container-id-1 div.sk-parallel-item:last-child::after {align-self: flex-start;width: 50%;}#sk-container-id-1 div.sk-parallel-item:only-child::after {width: 0;}#sk-container-id-1 div.sk-dashed-wrapped {border: 1px dashed gray;margin: 0 0.4em 0.5em 0.4em;box-sizing: border-box;padding-bottom: 0.4em;background-color: white;}#sk-container-id-1 div.sk-label label {font-family: monospace;font-weight: bold;display: inline-block;line-height: 1.2em;}#sk-container-id-1 div.sk-label-container {text-align: center;}#sk-container-id-1 div.sk-container {/* jupyter's `normalize.less` sets `[hidden] { display: none; }` but bootstrap.min.css set `[hidden] { display: none !important; }` so we also need the `!important` here to be able to override the default hidden behavior on the sphinx rendered scikit-learn.org. See: https://github.com/scikit-learn/scikit-learn/issues/21755 */display: inline-block !important;position: relative;}#sk-container-id-1 div.sk-text-repr-fallback {display: none;}</style><div id=\"sk-container-id-1\" class=\"sk-top-container\"><div class=\"sk-text-repr-fallback\"><pre>SVC()</pre><b>In a Jupyter environment, please rerun this cell to show the HTML representation or trust the notebook. <br />On GitHub, the HTML representation is unable to render, please try loading this page with nbviewer.org.</b></div><div class=\"sk-container\" hidden><div class=\"sk-item\"><div class=\"sk-estimator sk-toggleable\"><input class=\"sk-toggleable__control sk-hidden--visually\" id=\"sk-estimator-id-1\" type=\"checkbox\" checked><label for=\"sk-estimator-id-1\" class=\"sk-toggleable__label sk-toggleable__label-arrow\">SVC</label><div class=\"sk-toggleable__content\"><pre>SVC()</pre></div></div></div></div></div>"
      ],
      "text/plain": [
       "SVC()"
      ]
     },
     "execution_count": 9,
     "metadata": {},
     "output_type": "execute_result"
    }
   ],
   "source": [
    "svm_model = SVC(kernel='rbf')  \n",
    "svm_model.fit(X_train, y_train)"
   ]
  },
  {
   "cell_type": "code",
   "execution_count": 10,
   "id": "491775b2",
   "metadata": {
    "execution": {
     "iopub.execute_input": "2024-11-25T14:46:57.183351Z",
     "iopub.status.busy": "2024-11-25T14:46:57.182912Z",
     "iopub.status.idle": "2024-11-25T14:46:57.224437Z",
     "shell.execute_reply": "2024-11-25T14:46:57.223438Z"
    },
    "papermill": {
     "duration": 0.049273,
     "end_time": "2024-11-25T14:46:57.226989",
     "exception": false,
     "start_time": "2024-11-25T14:46:57.177716",
     "status": "completed"
    },
    "tags": []
   },
   "outputs": [],
   "source": [
    "y_pred = svm_model.predict(X_test)"
   ]
  },
  {
   "cell_type": "code",
   "execution_count": 11,
   "id": "45b29fc2",
   "metadata": {
    "execution": {
     "iopub.execute_input": "2024-11-25T14:46:57.237297Z",
     "iopub.status.busy": "2024-11-25T14:46:57.236887Z",
     "iopub.status.idle": "2024-11-25T14:46:57.258430Z",
     "shell.execute_reply": "2024-11-25T14:46:57.257243Z"
    },
    "papermill": {
     "duration": 0.029602,
     "end_time": "2024-11-25T14:46:57.261456",
     "exception": false,
     "start_time": "2024-11-25T14:46:57.231854",
     "status": "completed"
    },
    "tags": []
   },
   "outputs": [
    {
     "name": "stdout",
     "output_type": "stream",
     "text": [
      "Confusion Matrix:\n",
      "[[1424    0]\n",
      " [  76    0]]\n",
      "Classification Report:\n",
      "              precision    recall  f1-score   support\n",
      "\n",
      "           0       0.95      1.00      0.97      1424\n",
      "           1       0.00      0.00      0.00        76\n",
      "\n",
      "    accuracy                           0.95      1500\n",
      "   macro avg       0.47      0.50      0.49      1500\n",
      "weighted avg       0.90      0.95      0.92      1500\n",
      "\n"
     ]
    },
    {
     "name": "stderr",
     "output_type": "stream",
     "text": [
      "/opt/conda/lib/python3.10/site-packages/sklearn/metrics/_classification.py:1344: UndefinedMetricWarning: Precision and F-score are ill-defined and being set to 0.0 in labels with no predicted samples. Use `zero_division` parameter to control this behavior.\n",
      "  _warn_prf(average, modifier, msg_start, len(result))\n",
      "/opt/conda/lib/python3.10/site-packages/sklearn/metrics/_classification.py:1344: UndefinedMetricWarning: Precision and F-score are ill-defined and being set to 0.0 in labels with no predicted samples. Use `zero_division` parameter to control this behavior.\n",
      "  _warn_prf(average, modifier, msg_start, len(result))\n",
      "/opt/conda/lib/python3.10/site-packages/sklearn/metrics/_classification.py:1344: UndefinedMetricWarning: Precision and F-score are ill-defined and being set to 0.0 in labels with no predicted samples. Use `zero_division` parameter to control this behavior.\n",
      "  _warn_prf(average, modifier, msg_start, len(result))\n"
     ]
    }
   ],
   "source": [
    "print(\"Confusion Matrix:\")\n",
    "print(confusion_matrix(y_test, y_pred))\n",
    "\n",
    "\n",
    "print(\"Classification Report:\")\n",
    "print(classification_report(y_test, y_pred))"
   ]
  },
  {
   "cell_type": "code",
   "execution_count": 12,
   "id": "24927429",
   "metadata": {
    "execution": {
     "iopub.execute_input": "2024-11-25T14:46:57.271011Z",
     "iopub.status.busy": "2024-11-25T14:46:57.270631Z",
     "iopub.status.idle": "2024-11-25T14:46:57.278872Z",
     "shell.execute_reply": "2024-11-25T14:46:57.277580Z"
    },
    "papermill": {
     "duration": 0.015378,
     "end_time": "2024-11-25T14:46:57.280870",
     "exception": false,
     "start_time": "2024-11-25T14:46:57.265492",
     "status": "completed"
    },
    "tags": []
   },
   "outputs": [
    {
     "name": "stdout",
     "output_type": "stream",
     "text": [
      "The Accuracy of the model is  94.93 %\n"
     ]
    }
   ],
   "source": [
    "from sklearn.metrics import accuracy_score\n",
    "Accu = accuracy_score(y_test, y_pred)\n",
    "Accu = Accu *100\n",
    "print(\"The Accuracy of the model is \" , round(Accu,2) , \"%\")"
   ]
  },
  {
   "cell_type": "code",
   "execution_count": null,
   "id": "f9450d07",
   "metadata": {
    "papermill": {
     "duration": 0.003766,
     "end_time": "2024-11-25T14:46:57.288883",
     "exception": false,
     "start_time": "2024-11-25T14:46:57.285117",
     "status": "completed"
    },
    "tags": []
   },
   "outputs": [],
   "source": []
  }
 ],
 "metadata": {
  "kaggle": {
   "accelerator": "none",
   "dataSources": [
    {
     "datasetId": 6109511,
     "sourceId": 9937708,
     "sourceType": "datasetVersion"
    }
   ],
   "dockerImageVersionId": 30786,
   "isGpuEnabled": false,
   "isInternetEnabled": false,
   "language": "python",
   "sourceType": "notebook"
  },
  "kernelspec": {
   "display_name": "Python 3",
   "language": "python",
   "name": "python3"
  },
  "language_info": {
   "codemirror_mode": {
    "name": "ipython",
    "version": 3
   },
   "file_extension": ".py",
   "mimetype": "text/x-python",
   "name": "python",
   "nbconvert_exporter": "python",
   "pygments_lexer": "ipython3",
   "version": "3.10.14"
  },
  "papermill": {
   "default_parameters": {},
   "duration": 6.36555,
   "end_time": "2024-11-25T14:46:57.913782",
   "environment_variables": {},
   "exception": null,
   "input_path": "__notebook__.ipynb",
   "output_path": "__notebook__.ipynb",
   "parameters": {},
   "start_time": "2024-11-25T14:46:51.548232",
   "version": "2.6.0"
  }
 },
 "nbformat": 4,
 "nbformat_minor": 5
}
